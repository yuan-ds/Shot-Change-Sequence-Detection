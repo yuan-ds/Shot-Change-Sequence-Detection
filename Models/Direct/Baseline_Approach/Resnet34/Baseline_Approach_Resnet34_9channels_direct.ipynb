{
  "nbformat": 4,
  "nbformat_minor": 5,
  "metadata": {
    "colab": {
      "name": "Baseline_Approach_Resnet34_9channels_direct.ipynb",
      "provenance": [],
      "collapsed_sections": []
    },
    "kernelspec": {
      "display_name": "Python 3 (ipykernel)",
      "language": "python",
      "name": "python3"
    },
    "language_info": {
      "codemirror_mode": {
        "name": "ipython",
        "version": 3
      },
      "file_extension": ".py",
      "mimetype": "text/x-python",
      "name": "python",
      "nbconvert_exporter": "python",
      "pygments_lexer": "ipython3",
      "version": "3.7.10"
    },
    "accelerator": "GPU"
  },
  "cells": [
    {
      "cell_type": "markdown",
      "metadata": {
        "id": "7badc3cb"
      },
      "source": [
        "## 1. Libraries and Setup"
      ],
      "id": "7badc3cb"
    },
    {
      "cell_type": "code",
      "metadata": {
        "id": "AuO32Xm2fb1z"
      },
      "source": [
        "from google.colab import drive\n",
        "import json\n",
        "drive.mount('/content/gdrive')"
      ],
      "id": "AuO32Xm2fb1z",
      "execution_count": null,
      "outputs": []
    },
    {
      "cell_type": "code",
      "metadata": {
        "id": "jIlv-QiNgNt7"
      },
      "source": [
        "!cp /content/gdrive/MyDrive/converted_224x224.tar.gz /content\n",
        "%cd /content\n",
        "!tar -xvzf converted_224x224.tar.gz"
      ],
      "id": "jIlv-QiNgNt7",
      "execution_count": null,
      "outputs": []
    },
    {
      "cell_type": "code",
      "metadata": {
        "id": "a2AK4w8Nh-4Q"
      },
      "source": [
        "!ls converted_224x224/"
      ],
      "id": "a2AK4w8Nh-4Q",
      "execution_count": null,
      "outputs": []
    },
    {
      "cell_type": "code",
      "metadata": {
        "id": "812ec14e"
      },
      "source": [
        "import os\n",
        "import sys\n",
        "import time\n",
        "\n",
        "import numpy as np\n",
        "import pandas as pd\n",
        "\n",
        "import pdb\n",
        "import gc\n",
        "from tqdm.notebook import trange, tqdm\n",
        "from PIL import Image\n",
        "\n",
        "import torch\n",
        "import torchvision \n",
        "import torch.nn as nn\n",
        "\n",
        "from torch.utils.data import Dataset, DataLoader\n",
        "import torch.optim as optim\n",
        "\n",
        "import warnings\n",
        "warnings.filterwarnings('ignore')\n"
      ],
      "id": "812ec14e",
      "execution_count": 4,
      "outputs": []
    },
    {
      "cell_type": "code",
      "metadata": {
        "colab": {
          "base_uri": "https://localhost:8080/"
        },
        "id": "c5972057",
        "outputId": "bef0e195-a063-4599-eb0a-b69cb6dc166c"
      },
      "source": [
        "cuda = torch.cuda.is_available()\n",
        "device = torch.device(\"cuda\" if cuda else \"cpu\")\n",
        "\n",
        "num_workers = 8 if cuda else 0\n",
        "\n",
        "print(\"Cuda = \", str(cuda), \" with num_workers = \", str(num_workers),  \" system version = \", sys.version)"
      ],
      "id": "c5972057",
      "execution_count": 5,
      "outputs": [
        {
          "output_type": "stream",
          "name": "stdout",
          "text": [
            "Cuda =  True  with num_workers =  8  system version =  3.7.12 (default, Sep 10 2021, 00:21:48) \n",
            "[GCC 7.5.0]\n"
          ]
        }
      ]
    },
    {
      "cell_type": "markdown",
      "metadata": {
        "id": "e71e53e8"
      },
      "source": [
        "## 2. Data Loading"
      ],
      "id": "e71e53e8"
    },
    {
      "cell_type": "markdown",
      "metadata": {
        "id": "3bdee1e8"
      },
      "source": [
        "### 2.1 Load Data"
      ],
      "id": "3bdee1e8"
    },
    {
      "cell_type": "code",
      "metadata": {
        "id": "6e874ee1"
      },
      "source": [
        "np.random.seed(0)\n",
        "df = pd.read_csv(\"/content/gdrive/MyDrive/dataset/2+1.csv\")\n",
        "df = df.iloc[:, 1:]\n",
        "\n",
        "train_end = int(len(df)*0.7)\n",
        "val_end = int(len(df)*0.85)\n",
        "train_data = df[:train_end]\n",
        "val_data = df[train_end:val_end]\n",
        "test_data = df[val_end:]"
      ],
      "id": "6e874ee1",
      "execution_count": 6,
      "outputs": []
    },
    {
      "cell_type": "code",
      "metadata": {
        "id": "e669450b"
      },
      "source": [
        "train_data = train_data.reset_index().drop('Unnamed: 0.1',1).drop('index',1)\n",
        "val_data = val_data.reset_index().drop('Unnamed: 0.1',1).drop('index',1)\n",
        "test_data = test_data.reset_index().drop('Unnamed: 0.1',1).drop('index',1)"
      ],
      "id": "e669450b",
      "execution_count": 7,
      "outputs": []
    },
    {
      "cell_type": "code",
      "metadata": {
        "colab": {
          "base_uri": "https://localhost:8080/",
          "height": 419
        },
        "id": "1gs_EeHEuiP7",
        "outputId": "44aa80ab-7376-48dd-d925-54837ccc7783"
      },
      "source": [
        "test_data"
      ],
      "id": "1gs_EeHEuiP7",
      "execution_count": 8,
      "outputs": [
        {
          "output_type": "execute_result",
          "data": {
            "text/html": [
              "<div>\n",
              "<style scoped>\n",
              "    .dataframe tbody tr th:only-of-type {\n",
              "        vertical-align: middle;\n",
              "    }\n",
              "\n",
              "    .dataframe tbody tr th {\n",
              "        vertical-align: top;\n",
              "    }\n",
              "\n",
              "    .dataframe thead th {\n",
              "        text-align: right;\n",
              "    }\n",
              "</style>\n",
              "<table border=\"1\" class=\"dataframe\">\n",
              "  <thead>\n",
              "    <tr style=\"text-align: right;\">\n",
              "      <th></th>\n",
              "      <th>frames</th>\n",
              "      <th>label</th>\n",
              "    </tr>\n",
              "  </thead>\n",
              "  <tbody>\n",
              "    <tr>\n",
              "      <th>0</th>\n",
              "      <td>('frame_149910.jpg', 'frame_150128.jpg', 'fram...</td>\n",
              "      <td>1</td>\n",
              "    </tr>\n",
              "    <tr>\n",
              "      <th>1</th>\n",
              "      <td>('frame_149935.jpg', 'frame_149924.jpg', 'fram...</td>\n",
              "      <td>2</td>\n",
              "    </tr>\n",
              "    <tr>\n",
              "      <th>2</th>\n",
              "      <td>('frame_149931.jpg', 'frame_149915.jpg', 'fram...</td>\n",
              "      <td>2</td>\n",
              "    </tr>\n",
              "    <tr>\n",
              "      <th>3</th>\n",
              "      <td>('frame_149949.jpg', 'frame_149922.jpg', 'fram...</td>\n",
              "      <td>2</td>\n",
              "    </tr>\n",
              "    <tr>\n",
              "      <th>4</th>\n",
              "      <td>('frame_149941.jpg', 'frame_150459.jpg', 'fram...</td>\n",
              "      <td>3</td>\n",
              "    </tr>\n",
              "    <tr>\n",
              "      <th>...</th>\n",
              "      <td>...</td>\n",
              "      <td>...</td>\n",
              "    </tr>\n",
              "    <tr>\n",
              "      <th>18078</th>\n",
              "      <td>('frame_174612.jpg', 'frame_174586.jpg', 'fram...</td>\n",
              "      <td>2</td>\n",
              "    </tr>\n",
              "    <tr>\n",
              "      <th>18079</th>\n",
              "      <td>('frame_174574.jpg', 'frame_180855.jpg', 'fram...</td>\n",
              "      <td>1</td>\n",
              "    </tr>\n",
              "    <tr>\n",
              "      <th>18080</th>\n",
              "      <td>('frame_174580.jpg', 'frame_174634.jpg', 'fram...</td>\n",
              "      <td>0</td>\n",
              "    </tr>\n",
              "    <tr>\n",
              "      <th>18081</th>\n",
              "      <td>('frame_174619.jpg', 'frame_181123.jpg', 'fram...</td>\n",
              "      <td>3</td>\n",
              "    </tr>\n",
              "    <tr>\n",
              "      <th>18082</th>\n",
              "      <td>('frame_174585.jpg', 'frame_174623.jpg', 'fram...</td>\n",
              "      <td>0</td>\n",
              "    </tr>\n",
              "  </tbody>\n",
              "</table>\n",
              "<p>18083 rows × 2 columns</p>\n",
              "</div>"
            ],
            "text/plain": [
              "                                                  frames  label\n",
              "0      ('frame_149910.jpg', 'frame_150128.jpg', 'fram...      1\n",
              "1      ('frame_149935.jpg', 'frame_149924.jpg', 'fram...      2\n",
              "2      ('frame_149931.jpg', 'frame_149915.jpg', 'fram...      2\n",
              "3      ('frame_149949.jpg', 'frame_149922.jpg', 'fram...      2\n",
              "4      ('frame_149941.jpg', 'frame_150459.jpg', 'fram...      3\n",
              "...                                                  ...    ...\n",
              "18078  ('frame_174612.jpg', 'frame_174586.jpg', 'fram...      2\n",
              "18079  ('frame_174574.jpg', 'frame_180855.jpg', 'fram...      1\n",
              "18080  ('frame_174580.jpg', 'frame_174634.jpg', 'fram...      0\n",
              "18081  ('frame_174619.jpg', 'frame_181123.jpg', 'fram...      3\n",
              "18082  ('frame_174585.jpg', 'frame_174623.jpg', 'fram...      0\n",
              "\n",
              "[18083 rows x 2 columns]"
            ]
          },
          "metadata": {},
          "execution_count": 8
        }
      ]
    },
    {
      "cell_type": "markdown",
      "metadata": {
        "id": "f15cbf79"
      },
      "source": [
        "### 2.2 Custom Dataset Class"
      ],
      "id": "f15cbf79"
    },
    {
      "cell_type": "code",
      "metadata": {
        "id": "RK6gHTVopf7M"
      },
      "source": [
        "# cur_dir = \"data/qscale31_unique/\"\n",
        "cur_dir = \"converted_224x224/\""
      ],
      "id": "RK6gHTVopf7M",
      "execution_count": 9,
      "outputs": []
    },
    {
      "cell_type": "code",
      "metadata": {
        "id": "c21554c7"
      },
      "source": [
        "# Define dataset class\n",
        "class MyDataSet(Dataset):\n",
        "\n",
        "    # load the dataset\n",
        "    def __init__(self, data, **kwargs):\n",
        "        self.X = data[\"frames\"]\n",
        "        self.Y = data[\"label\"]\n",
        "\n",
        "    # get number of items/rows in dataset\n",
        "    def __len__(self):\n",
        "        return len(self.Y)\n",
        "    \n",
        "    def __getitem__(self, index):\n",
        "        x, y = self.X[index], self.Y[index]\n",
        "        for c in [\"(\",\")\",\",\",\"'\"]:\n",
        "            x = x.replace(c, \"\")\n",
        "        x = x.split(\" \")\n",
        "        images = []\n",
        "        for img_file in x:\n",
        "            img = Image.open(cur_dir + img_file)\n",
        "            img = torchvision.transforms.ToTensor()(img)\n",
        "            images.extend(img)\n",
        "        x = torch.stack(images)\n",
        "        return x, y\n",
        "    "
      ],
      "id": "c21554c7",
      "execution_count": 10,
      "outputs": []
    },
    {
      "cell_type": "code",
      "metadata": {
        "colab": {
          "base_uri": "https://localhost:8080/"
        },
        "id": "3Tpf6FW9nr7J",
        "outputId": "e2fe7169-704a-4316-8df9-13bf294c7ad8"
      },
      "source": [
        "train_set = MyDataSet(train_data)\n",
        "train_set[0][0].shape"
      ],
      "id": "3Tpf6FW9nr7J",
      "execution_count": 11,
      "outputs": [
        {
          "output_type": "execute_result",
          "data": {
            "text/plain": [
              "torch.Size([9, 224, 224])"
            ]
          },
          "metadata": {},
          "execution_count": 11
        }
      ]
    },
    {
      "cell_type": "markdown",
      "metadata": {
        "id": "6d6b5efe"
      },
      "source": [
        "### 2.3 Dataloader"
      ],
      "id": "6d6b5efe"
    },
    {
      "cell_type": "code",
      "metadata": {
        "id": "4fb2a207"
      },
      "source": [
        "batch_size = 64\n",
        "\n",
        "# training data\n",
        "train_set = MyDataSet(train_data)\n",
        "train_loader = DataLoader(train_set, shuffle=True, batch_size=batch_size, num_workers=8)\n",
        "\n",
        "# validation data\n",
        "val_set = MyDataSet(val_data)\n",
        "val_loader = DataLoader(val_set, shuffle=False, batch_size=batch_size, num_workers=8)\n",
        "\n",
        "# test data\n",
        "test_set = MyDataSet(test_data)\n",
        "test_loader = DataLoader(test_set, shuffle=False, batch_size=batch_size, num_workers=8)"
      ],
      "id": "4fb2a207",
      "execution_count": 12,
      "outputs": []
    },
    {
      "cell_type": "markdown",
      "metadata": {
        "id": "a589effb"
      },
      "source": [
        "## 3. Model"
      ],
      "id": "a589effb"
    },
    {
      "cell_type": "code",
      "metadata": {
        "id": "7c94574d"
      },
      "source": [
        "# This is the simplest possible residual block, with only one CNN layer.\n",
        "# Looking at the paper, you can extend this block to have more layers, bottleneck, grouped convs (from shufflenet), etc.\n",
        "# Or even look at more recent papers like resnext, regnet, resnest, senet, etc.\n",
        "class ResidualBlock(nn.Module):\n",
        "    def __init__(self, in_channel, out_channel,stride=1):\n",
        "        super().__init__()\n",
        "        self.conv1 = nn.Conv2d(in_channel, out_channel, kernel_size=3, stride=stride, padding=1, bias=False, dilation = 1)\n",
        "        self.bn1 = nn.BatchNorm2d(out_channel)\n",
        "        self.relu1 = nn.ReLU(inplace = True)\n",
        "        self.conv2 = nn.Conv2d(out_channel, out_channel, kernel_size=3, stride=1, padding= 1, bias=False, dilation = 1)\n",
        "        self.bn2 =  nn.BatchNorm2d(out_channel)\n",
        "        if stride == 1:\n",
        "            self.shortcut = nn.Identity()\n",
        "        else:\n",
        "            self.shortcut = nn.Conv2d(in_channel, out_channel, kernel_size=1, stride=stride)\n",
        "        self.relu2 = nn.ReLU(inplace = True)\n",
        "    \n",
        "    def forward(self, x):\n",
        "        out = self.conv1(x)\n",
        "        out = self.bn1(out)\n",
        "        out = self.relu1(out)\n",
        "\n",
        "        out = self.conv2(out)\n",
        "        out = self.bn2(out)\n",
        "\n",
        "        shortcut = self.shortcut(x) \n",
        "        out = self.relu2(out + shortcut)\n",
        "        \n",
        "        return out"
      ],
      "id": "7c94574d",
      "execution_count": 13,
      "outputs": []
    },
    {
      "cell_type": "code",
      "metadata": {
        "id": "8386991f"
      },
      "source": [
        "# This has hard-coded hidden feature sizes.\n",
        "# You can extend this to take in a list of hidden sizes as argument if you want.\n",
        "class ClassificationNetwork(nn.Module):\n",
        "    def __init__(self, in_features, num_classes,feat_dim = 512):\n",
        "        super().__init__()\n",
        "        \n",
        "        self.layers = nn.Sequential(\n",
        "            nn.Conv2d(in_features, 64, kernel_size=7, stride=2, padding=3, bias=False),\n",
        "            nn.BatchNorm2d(64),\n",
        "            nn.ReLU(inplace = True),\n",
        "            nn.MaxPool2d(kernel_size = 3, stride = 2, padding = 1),\n",
        "            ResidualBlock(64,64),\n",
        "            ResidualBlock(64,64),\n",
        "            ResidualBlock(64,64),\n",
        "            ResidualBlock(64,128,stride = 2),\n",
        "            ResidualBlock(128,128),\n",
        "            ResidualBlock(128,128),\n",
        "            ResidualBlock(128,128),\n",
        "            ResidualBlock(128,256,stride = 2),\n",
        "            ResidualBlock(256,256),\n",
        "            ResidualBlock(256,256),\n",
        "            ResidualBlock(256,256),\n",
        "            ResidualBlock(256,256),\n",
        "            ResidualBlock(256,256),\n",
        "            ResidualBlock(256,512,stride = 2),\n",
        "            ResidualBlock(512,512),\n",
        "            ResidualBlock(512,512),\n",
        "            nn.AdaptiveAvgPool2d((1, 1)), # For each channel, collapses (averages) the entire feature map (height & width) to 1x1\n",
        "            nn.Flatten(1), # the above ends up with batch_size x 512 x 1 x 1, flatten to batch_size x 512\n",
        "        )\n",
        "        self.linear_emb = nn.Linear(512, feat_dim)\n",
        "        self.relu = nn.ReLU(inplace=True)\n",
        "        self.linear_output_1 = nn.Linear(512,512)\n",
        "        self.relu_output = nn.ReLU(inplace=True)\n",
        "        self.dropout_output = nn.Dropout(p=0.4)\n",
        "        self.linear_output_2 = nn.Linear(512,num_classes)\n",
        "        # self.fc = nn.Linear(512,num_classes)\n",
        "        \n",
        "        for m in self.modules():\n",
        "          if isinstance(m, nn.Conv2d):\n",
        "            nn.init.kaiming_normal_(m.weight, mode='fan_out', nonlinearity='relu')\n",
        "          elif isinstance(m, (nn.BatchNorm2d)):\n",
        "            nn.init.constant_(m.weight, 1)\n",
        "            nn.init.constant_(m.bias, 0) \n",
        "\n",
        "        for m in self.modules():\n",
        "          if isinstance(m, ResidualBlock):\n",
        "            nn.init.constant_(m.bn2.weight, 0)  # type: ignore[arg-type]  \n",
        "\n",
        "    def forward(self, x, return_embedding=False):\n",
        "        embedding = self.layers(x)\n",
        "        embedding_out = self.linear_emb(embedding)\n",
        "        embedding_out = self.relu(embedding_out)\n",
        "\n",
        "        output = self.linear_output_1(embedding)\n",
        "        output = self.relu_output(output)\n",
        "        output = self.dropout_output(output)\n",
        "        output = self.linear_output_2(output)\n",
        "        # output = self.fc(embedding)\n",
        "\n",
        "        if return_embedding:\n",
        "            return embedding_out,output\n",
        "        else:\n",
        "            return output "
      ],
      "id": "8386991f",
      "execution_count": 14,
      "outputs": []
    },
    {
      "cell_type": "code",
      "metadata": {
        "id": "y9kNdjdnvVgk"
      },
      "source": [
        "class Network(torch.nn.Module):\n",
        "    def __init__(self, in_channels, embedding, num_images, num_classes):\n",
        "        super().__init__()\n",
        "        self.cnn = ClassificationNetwork(in_channels, embedding)\n",
        "        self.mlp = nn.Sequential(nn.Linear(embedding*num_images, num_classes))\n",
        "\n",
        "    def forward(self, x):\n",
        "      x1 = x[:, 0:3, :, :]\n",
        "      x2 = x[:, 3:6, :, :]\n",
        "      x3 = x[:, 6:9, :, :]\n",
        "\n",
        "      out1 = self.cnn(x1)\n",
        "      out2 = self.cnn(x2)\n",
        "      out3 = self.cnn(x3)\n",
        "\n",
        "      out = torch.cat([out1, out2, out3], axis=1)\n",
        "      logits = self.mlp(out)\n",
        "      return logits"
      ],
      "id": "y9kNdjdnvVgk",
      "execution_count": 15,
      "outputs": []
    },
    {
      "cell_type": "code",
      "metadata": {
        "id": "964a4c9e"
      },
      "source": [
        "numEpochs = 500\n",
        "in_features = 3 # TODO: change RGB channels according to num of frames\n",
        "embedding = 128\n",
        "\n",
        "learningRate = 0.1\n",
        "weightDecay = 1e-4\n",
        "\n",
        "num_images = 3\n",
        "num_classes = 6\n",
        "\n",
        "device = torch.device('cuda' if torch.cuda.is_available() else 'cpu')\n",
        "\n",
        "network = Network(in_features, embedding, num_images, num_classes)\n",
        "#network.load_state_dict(torch.load(\"model_checkpoints/resnet34/lr_0.1-2/model_2.pt\"))\n",
        "network = network.to(device)\n",
        "\n",
        "criterion = nn.CrossEntropyLoss()\n",
        "optimizer = torch.optim.SGD(network.parameters(), lr=learningRate, weight_decay=weightDecay, momentum=0.9)\n",
        "scheduler = torch.optim.lr_scheduler.ReduceLROnPlateau(optimizer, 'min', patience=3, factor=0.7, verbose=True)"
      ],
      "id": "964a4c9e",
      "execution_count": 18,
      "outputs": []
    },
    {
      "cell_type": "code",
      "metadata": {
        "colab": {
          "base_uri": "https://localhost:8080/",
          "height": 1000
        },
        "id": "7b85b7de",
        "outputId": "94f28feb-fef2-46a0-a845-cf84fda5b68c"
      },
      "source": [
        "# Train!\n",
        "max_val_acc = 0\n",
        "for epoch in range(numEpochs):\n",
        "    # Train\n",
        "    network.train()\n",
        "    avg_loss = 0.0\n",
        "    avg_train_acc = 0.0\n",
        "    for batch_num, (x, y) in enumerate(train_loader):\n",
        "        optimizer.zero_grad()\n",
        "        x, y = x.to(device), y.to(device)\n",
        "        outputs = network(x)\n",
        "        num_train_correct = (torch.argmax(outputs, axis=1) == y).sum().item()\n",
        "        num_labels = len(y)\n",
        "        avg_train_acc += (num_train_correct/num_labels)\n",
        "\n",
        "        loss = criterion(outputs, y.long())\n",
        "        loss.backward()\n",
        "        optimizer.step()\n",
        "        avg_loss += loss.item()\n",
        "\n",
        "        if batch_num % 50 == 49:\n",
        "            print('Epoch: {}\\tBatch: {}\\tAvg-Loss: {:.4f}\\tTraining Accuracy : {:.4f}'.format(epoch, batch_num+1, avg_loss/50, avg_train_acc/50))\n",
        "            avg_loss = 0.0\n",
        "            avg_train_acc = 0.0\n",
        "\n",
        "        torch.cuda.empty_cache()\n",
        "        del x\n",
        "        del y\n",
        "        del loss\n",
        "    \n",
        "    # Validate\n",
        "    with torch.no_grad():\n",
        "        network.eval()\n",
        "        avg_val_loss = 0.0\n",
        "        num_correct = 0\n",
        "        for batch_num, (x, y) in enumerate(val_loader):\n",
        "            x, y = x.to(device), y.to(device)\n",
        "            outputs = network(x)\n",
        "            num_correct += (torch.argmax(outputs, axis=1) == y).sum().item()\n",
        "            loss = criterion(outputs, y.long())\n",
        "            avg_val_loss += loss.item()\n",
        "            torch.cuda.empty_cache()\n",
        "            del x\n",
        "            del y\n",
        "\n",
        "        avg_val_loss = avg_val_loss / len(val_loader)\n",
        "        val_acc = num_correct / len(val_set)\n",
        "        checkpoint_name = \"/content/gdrive/MyDrive/baseline_9channels/model_\" + str(epoch) + \".pt\"\n",
        "        torch.save(network.state_dict(), checkpoint_name)\n",
        "        if val_acc > max_val_acc:\n",
        "            max_val_acc = val_acc\n",
        "            torch.save(network.state_dict(), \"/content/gdrive/MyDrive/baseline_9channels/best_model.pt\")\n",
        "\n",
        "    scheduler.step(avg_val_loss)\n",
        "    print('Epoch: {}, Validation Loss: {:.3f}, Validation Accuracy: {:.3f}'.format(epoch, avg_val_loss, val_acc))"
      ],
      "id": "7b85b7de",
      "execution_count": 20,
      "outputs": [
        {
          "output_type": "stream",
          "name": "stdout",
          "text": [
            "Epoch: 0\tBatch: 50\tAvg-Loss: 0.1504\tTraining Accuracy : 0.9434\n",
            "Epoch: 0\tBatch: 100\tAvg-Loss: 0.1715\tTraining Accuracy : 0.9331\n",
            "Epoch: 0\tBatch: 150\tAvg-Loss: 0.1621\tTraining Accuracy : 0.9319\n",
            "Epoch: 0\tBatch: 200\tAvg-Loss: 0.1626\tTraining Accuracy : 0.9409\n",
            "Epoch: 0\tBatch: 250\tAvg-Loss: 0.1744\tTraining Accuracy : 0.9322\n",
            "Epoch: 0\tBatch: 300\tAvg-Loss: 0.1605\tTraining Accuracy : 0.9372\n",
            "Epoch: 0\tBatch: 350\tAvg-Loss: 0.1536\tTraining Accuracy : 0.9387\n",
            "Epoch: 0\tBatch: 400\tAvg-Loss: 0.1712\tTraining Accuracy : 0.9331\n",
            "Epoch: 0\tBatch: 450\tAvg-Loss: 0.1554\tTraining Accuracy : 0.9416\n",
            "Epoch: 0\tBatch: 500\tAvg-Loss: 0.1798\tTraining Accuracy : 0.9337\n",
            "Epoch: 0\tBatch: 550\tAvg-Loss: 0.1729\tTraining Accuracy : 0.9297\n",
            "Epoch: 0\tBatch: 600\tAvg-Loss: 0.1665\tTraining Accuracy : 0.9347\n",
            "Epoch: 0\tBatch: 650\tAvg-Loss: 0.1852\tTraining Accuracy : 0.9287\n",
            "Epoch: 0\tBatch: 700\tAvg-Loss: 0.1715\tTraining Accuracy : 0.9334\n",
            "Epoch: 0\tBatch: 750\tAvg-Loss: 0.1646\tTraining Accuracy : 0.9322\n",
            "Epoch: 0\tBatch: 800\tAvg-Loss: 0.1579\tTraining Accuracy : 0.9391\n",
            "Epoch: 0\tBatch: 850\tAvg-Loss: 0.1785\tTraining Accuracy : 0.9281\n",
            "Epoch: 0\tBatch: 900\tAvg-Loss: 0.1790\tTraining Accuracy : 0.9331\n",
            "Epoch: 0\tBatch: 950\tAvg-Loss: 0.1543\tTraining Accuracy : 0.9425\n",
            "Epoch: 0\tBatch: 1000\tAvg-Loss: 0.1758\tTraining Accuracy : 0.9309\n",
            "Epoch: 0\tBatch: 1050\tAvg-Loss: 0.1661\tTraining Accuracy : 0.9347\n",
            "Epoch: 0\tBatch: 1100\tAvg-Loss: 0.1666\tTraining Accuracy : 0.9375\n",
            "Epoch: 0\tBatch: 1150\tAvg-Loss: 0.1923\tTraining Accuracy : 0.9300\n",
            "Epoch: 0\tBatch: 1200\tAvg-Loss: 0.1731\tTraining Accuracy : 0.9334\n",
            "Epoch: 0\tBatch: 1250\tAvg-Loss: 0.1771\tTraining Accuracy : 0.9319\n",
            "Epoch: 0\tBatch: 1300\tAvg-Loss: 0.1512\tTraining Accuracy : 0.9434\n",
            "Epoch: 0, Validation Loss: 6.894, Validation Accuracy: 0.235\n",
            "Epoch: 1\tBatch: 50\tAvg-Loss: 0.1674\tTraining Accuracy : 0.9344\n",
            "Epoch: 1\tBatch: 100\tAvg-Loss: 0.1779\tTraining Accuracy : 0.9337\n",
            "Epoch: 1\tBatch: 150\tAvg-Loss: 0.1655\tTraining Accuracy : 0.9413\n",
            "Epoch: 1\tBatch: 200\tAvg-Loss: 0.1827\tTraining Accuracy : 0.9219\n",
            "Epoch: 1\tBatch: 250\tAvg-Loss: 0.1615\tTraining Accuracy : 0.9387\n",
            "Epoch: 1\tBatch: 300\tAvg-Loss: 0.1609\tTraining Accuracy : 0.9419\n",
            "Epoch: 1\tBatch: 350\tAvg-Loss: 0.1657\tTraining Accuracy : 0.9322\n",
            "Epoch: 1\tBatch: 400\tAvg-Loss: 0.1535\tTraining Accuracy : 0.9431\n",
            "Epoch: 1\tBatch: 450\tAvg-Loss: 0.1631\tTraining Accuracy : 0.9356\n",
            "Epoch: 1\tBatch: 500\tAvg-Loss: 0.1812\tTraining Accuracy : 0.9319\n",
            "Epoch: 1\tBatch: 550\tAvg-Loss: 0.1561\tTraining Accuracy : 0.9425\n",
            "Epoch: 1\tBatch: 600\tAvg-Loss: 0.1944\tTraining Accuracy : 0.9263\n",
            "Epoch: 1\tBatch: 650\tAvg-Loss: 0.1788\tTraining Accuracy : 0.9247\n",
            "Epoch: 1\tBatch: 700\tAvg-Loss: 0.1804\tTraining Accuracy : 0.9350\n",
            "Epoch: 1\tBatch: 750\tAvg-Loss: 0.1728\tTraining Accuracy : 0.9331\n",
            "Epoch: 1\tBatch: 800\tAvg-Loss: 0.1615\tTraining Accuracy : 0.9328\n",
            "Epoch: 1\tBatch: 850\tAvg-Loss: 0.1554\tTraining Accuracy : 0.9397\n",
            "Epoch: 1\tBatch: 900\tAvg-Loss: 0.1560\tTraining Accuracy : 0.9387\n",
            "Epoch: 1\tBatch: 950\tAvg-Loss: 0.1804\tTraining Accuracy : 0.9303\n",
            "Epoch: 1\tBatch: 1000\tAvg-Loss: 0.1596\tTraining Accuracy : 0.9394\n",
            "Epoch: 1\tBatch: 1050\tAvg-Loss: 0.1660\tTraining Accuracy : 0.9341\n",
            "Epoch: 1\tBatch: 1100\tAvg-Loss: 0.1872\tTraining Accuracy : 0.9291\n",
            "Epoch: 1\tBatch: 1150\tAvg-Loss: 0.1801\tTraining Accuracy : 0.9272\n",
            "Epoch: 1\tBatch: 1200\tAvg-Loss: 0.1886\tTraining Accuracy : 0.9291\n",
            "Epoch: 1\tBatch: 1250\tAvg-Loss: 0.1690\tTraining Accuracy : 0.9350\n"
          ]
        },
        {
          "output_type": "error",
          "ename": "KeyboardInterrupt",
          "evalue": "ignored",
          "traceback": [
            "\u001b[0;31m---------------------------------------------------------------------------\u001b[0m",
            "\u001b[0;31mKeyboardInterrupt\u001b[0m                         Traceback (most recent call last)",
            "\u001b[0;32m<ipython-input-20-f7f382ee1af0>\u001b[0m in \u001b[0;36m<module>\u001b[0;34m()\u001b[0m\n\u001b[1;32m     17\u001b[0m         \u001b[0mloss\u001b[0m\u001b[0;34m.\u001b[0m\u001b[0mbackward\u001b[0m\u001b[0;34m(\u001b[0m\u001b[0;34m)\u001b[0m\u001b[0;34m\u001b[0m\u001b[0;34m\u001b[0m\u001b[0m\n\u001b[1;32m     18\u001b[0m         \u001b[0moptimizer\u001b[0m\u001b[0;34m.\u001b[0m\u001b[0mstep\u001b[0m\u001b[0;34m(\u001b[0m\u001b[0;34m)\u001b[0m\u001b[0;34m\u001b[0m\u001b[0;34m\u001b[0m\u001b[0m\n\u001b[0;32m---> 19\u001b[0;31m         \u001b[0mavg_loss\u001b[0m \u001b[0;34m+=\u001b[0m \u001b[0mloss\u001b[0m\u001b[0;34m.\u001b[0m\u001b[0mitem\u001b[0m\u001b[0;34m(\u001b[0m\u001b[0;34m)\u001b[0m\u001b[0;34m\u001b[0m\u001b[0;34m\u001b[0m\u001b[0m\n\u001b[0m\u001b[1;32m     20\u001b[0m \u001b[0;34m\u001b[0m\u001b[0m\n\u001b[1;32m     21\u001b[0m         \u001b[0;32mif\u001b[0m \u001b[0mbatch_num\u001b[0m \u001b[0;34m%\u001b[0m \u001b[0;36m50\u001b[0m \u001b[0;34m==\u001b[0m \u001b[0;36m49\u001b[0m\u001b[0;34m:\u001b[0m\u001b[0;34m\u001b[0m\u001b[0;34m\u001b[0m\u001b[0m\n",
            "\u001b[0;31mKeyboardInterrupt\u001b[0m: "
          ]
        }
      ]
    },
    {
      "cell_type": "code",
      "metadata": {
        "id": "6vIdH8nTXpno",
        "colab": {
          "base_uri": "https://localhost:8080/"
        },
        "outputId": "842c90de-3a06-4888-870a-34daa99f9157"
      },
      "source": [
        "# Test\n",
        "network.load_state_dict(torch.load(\"/content/gdrive/MyDrive/baseline_9channels/best_model.pt\"))\n",
        "\n",
        "with torch.no_grad():\n",
        "  network.eval()\n",
        "  num_correct = 0\n",
        "  for batch_num, (x, y) in enumerate(test_loader):\n",
        "    x, y = x.to(device), y.to(device)\n",
        "    outputs = network(x)\n",
        "    num_correct += (torch.argmax(outputs, axis=1) == y).sum().item()\n",
        "\n",
        "test_acc = num_correct / len(test_set)\n",
        "print(test_acc)\n"
      ],
      "id": "6vIdH8nTXpno",
      "execution_count": 21,
      "outputs": [
        {
          "output_type": "stream",
          "name": "stdout",
          "text": [
            "0.18979151689432064\n"
          ]
        }
      ]
    }
  ]
}