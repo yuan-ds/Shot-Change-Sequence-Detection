{
  "nbformat": 4,
  "nbformat_minor": 5,
  "metadata": {
    "colab": {
      "name": "Baseline_Approach_Resnet34_15channels_direct.ipynb",
      "provenance": [],
      "collapsed_sections": [],
      "machine_shape": "hm"
    },
    "kernelspec": {
      "display_name": "Python 3 (ipykernel)",
      "language": "python",
      "name": "python3"
    },
    "language_info": {
      "codemirror_mode": {
        "name": "ipython",
        "version": 3
      },
      "file_extension": ".py",
      "mimetype": "text/x-python",
      "name": "python",
      "nbconvert_exporter": "python",
      "pygments_lexer": "ipython3",
      "version": "3.7.10"
    },
    "accelerator": "GPU"
  },
  "cells": [
    {
      "cell_type": "markdown",
      "metadata": {
        "id": "7badc3cb"
      },
      "source": [
        "## 1. Libraries and Setup"
      ],
      "id": "7badc3cb"
    },
    {
      "cell_type": "code",
      "metadata": {
        "colab": {
          "base_uri": "https://localhost:8080/"
        },
        "id": "AuO32Xm2fb1z",
        "outputId": "7819a9ae-d109-47ea-87c3-eea138e9ff01"
      },
      "source": [
        "from google.colab import drive\n",
        "import json\n",
        "drive.mount('/content/gdrive')"
      ],
      "id": "AuO32Xm2fb1z",
      "execution_count": 1,
      "outputs": [
        {
          "output_type": "stream",
          "name": "stdout",
          "text": [
            "Mounted at /content/gdrive\n"
          ]
        }
      ]
    },
    {
      "cell_type": "code",
      "metadata": {
        "id": "jIlv-QiNgNt7"
      },
      "source": [
        "!cp /content/gdrive/MyDrive/converted_224x224.tar.gz /content\n",
        "%cd /content\n",
        "!tar -xvzf converted_224x224.tar.gz"
      ],
      "id": "jIlv-QiNgNt7",
      "execution_count": null,
      "outputs": []
    },
    {
      "cell_type": "code",
      "metadata": {
        "id": "a2AK4w8Nh-4Q"
      },
      "source": [
        "!ls converted_224x224/"
      ],
      "id": "a2AK4w8Nh-4Q",
      "execution_count": null,
      "outputs": []
    },
    {
      "cell_type": "code",
      "metadata": {
        "id": "812ec14e"
      },
      "source": [
        "import os\n",
        "import sys\n",
        "import time\n",
        "\n",
        "import numpy as np\n",
        "import pandas as pd\n",
        "\n",
        "import pdb\n",
        "import gc\n",
        "from tqdm.notebook import trange, tqdm\n",
        "from PIL import Image\n",
        "\n",
        "import torch\n",
        "import torchvision \n",
        "import torch.nn as nn\n",
        "\n",
        "from torch.utils.data import Dataset, DataLoader\n",
        "import torch.optim as optim\n",
        "\n",
        "import warnings\n",
        "warnings.filterwarnings('ignore')\n"
      ],
      "id": "812ec14e",
      "execution_count": 3,
      "outputs": []
    },
    {
      "cell_type": "code",
      "metadata": {
        "colab": {
          "base_uri": "https://localhost:8080/"
        },
        "id": "c5972057",
        "outputId": "e5e31fca-db96-4472-8a4e-e39673a22ac2"
      },
      "source": [
        "cuda = torch.cuda.is_available()\n",
        "device = torch.device(\"cuda\" if cuda else \"cpu\")\n",
        "\n",
        "num_workers = 8 if cuda else 0\n",
        "\n",
        "print(\"Cuda = \", str(cuda), \" with num_workers = \", str(num_workers),  \" system version = \", sys.version)"
      ],
      "id": "c5972057",
      "execution_count": 4,
      "outputs": [
        {
          "output_type": "stream",
          "name": "stdout",
          "text": [
            "Cuda =  True  with num_workers =  8  system version =  3.7.12 (default, Sep 10 2021, 00:21:48) \n",
            "[GCC 7.5.0]\n"
          ]
        }
      ]
    },
    {
      "cell_type": "markdown",
      "metadata": {
        "id": "e71e53e8"
      },
      "source": [
        "## 2. Data Loading"
      ],
      "id": "e71e53e8"
    },
    {
      "cell_type": "markdown",
      "metadata": {
        "id": "3bdee1e8"
      },
      "source": [
        "### 2.1 Load Data"
      ],
      "id": "3bdee1e8"
    },
    {
      "cell_type": "code",
      "metadata": {
        "id": "6e874ee1"
      },
      "source": [
        "np.random.seed(0)\n",
        "df = pd.read_csv(\"/content/gdrive/MyDrive/dataset/4+1.csv\")\n",
        "df = df.iloc[:, 1:]\n",
        "\n",
        "train_end = int(len(df)*0.7)\n",
        "val_end = int(len(df)*0.85)\n",
        "train_data = df[:train_end]\n",
        "val_data = df[train_end:val_end]\n",
        "test_data = df[val_end:]"
      ],
      "id": "6e874ee1",
      "execution_count": 5,
      "outputs": []
    },
    {
      "cell_type": "code",
      "metadata": {
        "id": "e669450b"
      },
      "source": [
        "train_data = train_data.reset_index().drop('Unnamed: 0.1',1).drop('index',1)\n",
        "val_data = val_data.reset_index().drop('Unnamed: 0.1',1).drop('index',1)\n",
        "test_data = test_data.reset_index().drop('Unnamed: 0.1',1).drop('index',1)"
      ],
      "id": "e669450b",
      "execution_count": 6,
      "outputs": []
    },
    {
      "cell_type": "code",
      "metadata": {
        "colab": {
          "base_uri": "https://localhost:8080/",
          "height": 419
        },
        "id": "1gs_EeHEuiP7",
        "outputId": "98de9de1-7e3d-4bac-f1a1-0b76cfe55340"
      },
      "source": [
        "test_data"
      ],
      "id": "1gs_EeHEuiP7",
      "execution_count": 7,
      "outputs": [
        {
          "output_type": "execute_result",
          "data": {
            "text/html": [
              "<div>\n",
              "<style scoped>\n",
              "    .dataframe tbody tr th:only-of-type {\n",
              "        vertical-align: middle;\n",
              "    }\n",
              "\n",
              "    .dataframe tbody tr th {\n",
              "        vertical-align: top;\n",
              "    }\n",
              "\n",
              "    .dataframe thead th {\n",
              "        text-align: right;\n",
              "    }\n",
              "</style>\n",
              "<table border=\"1\" class=\"dataframe\">\n",
              "  <thead>\n",
              "    <tr style=\"text-align: right;\">\n",
              "      <th></th>\n",
              "      <th>frames</th>\n",
              "      <th>label</th>\n",
              "    </tr>\n",
              "  </thead>\n",
              "  <tbody>\n",
              "    <tr>\n",
              "      <th>0</th>\n",
              "      <td>('frame_149670.jpg', 'frame_149739.jpg', 'fram...</td>\n",
              "      <td>16</td>\n",
              "    </tr>\n",
              "    <tr>\n",
              "      <th>1</th>\n",
              "      <td>('frame_149738.jpg', 'frame_149692.jpg', 'fram...</td>\n",
              "      <td>80</td>\n",
              "    </tr>\n",
              "    <tr>\n",
              "      <th>2</th>\n",
              "      <td>('frame_149729.jpg', 'frame_149716.jpg', 'fram...</td>\n",
              "      <td>86</td>\n",
              "    </tr>\n",
              "    <tr>\n",
              "      <th>3</th>\n",
              "      <td>('frame_149669.jpg', 'frame_149712.jpg', 'fram...</td>\n",
              "      <td>7</td>\n",
              "    </tr>\n",
              "    <tr>\n",
              "      <th>4</th>\n",
              "      <td>('frame_149683.jpg', 'frame_149707.jpg', 'fram...</td>\n",
              "      <td>34</td>\n",
              "    </tr>\n",
              "    <tr>\n",
              "      <th>...</th>\n",
              "      <td>...</td>\n",
              "      <td>...</td>\n",
              "    </tr>\n",
              "    <tr>\n",
              "      <th>17942</th>\n",
              "      <td>('frame_180809.jpg', 'frame_174579.jpg', 'fram...</td>\n",
              "      <td>101</td>\n",
              "    </tr>\n",
              "    <tr>\n",
              "      <th>17943</th>\n",
              "      <td>('frame_174581.jpg', 'frame_174634.jpg', 'fram...</td>\n",
              "      <td>14</td>\n",
              "    </tr>\n",
              "    <tr>\n",
              "      <th>17944</th>\n",
              "      <td>('frame_174605.jpg', 'frame_174596.jpg', 'fram...</td>\n",
              "      <td>54</td>\n",
              "    </tr>\n",
              "    <tr>\n",
              "      <th>17945</th>\n",
              "      <td>('frame_181123.jpg', 'frame_174585.jpg', 'fram...</td>\n",
              "      <td>96</td>\n",
              "    </tr>\n",
              "    <tr>\n",
              "      <th>17946</th>\n",
              "      <td>('frame_181333.jpg', 'frame_174579.jpg', 'fram...</td>\n",
              "      <td>97</td>\n",
              "    </tr>\n",
              "  </tbody>\n",
              "</table>\n",
              "<p>17947 rows × 2 columns</p>\n",
              "</div>"
            ],
            "text/plain": [
              "                                                  frames  label\n",
              "0      ('frame_149670.jpg', 'frame_149739.jpg', 'fram...     16\n",
              "1      ('frame_149738.jpg', 'frame_149692.jpg', 'fram...     80\n",
              "2      ('frame_149729.jpg', 'frame_149716.jpg', 'fram...     86\n",
              "3      ('frame_149669.jpg', 'frame_149712.jpg', 'fram...      7\n",
              "4      ('frame_149683.jpg', 'frame_149707.jpg', 'fram...     34\n",
              "...                                                  ...    ...\n",
              "17942  ('frame_180809.jpg', 'frame_174579.jpg', 'fram...    101\n",
              "17943  ('frame_174581.jpg', 'frame_174634.jpg', 'fram...     14\n",
              "17944  ('frame_174605.jpg', 'frame_174596.jpg', 'fram...     54\n",
              "17945  ('frame_181123.jpg', 'frame_174585.jpg', 'fram...     96\n",
              "17946  ('frame_181333.jpg', 'frame_174579.jpg', 'fram...     97\n",
              "\n",
              "[17947 rows x 2 columns]"
            ]
          },
          "metadata": {},
          "execution_count": 7
        }
      ]
    },
    {
      "cell_type": "markdown",
      "metadata": {
        "id": "f15cbf79"
      },
      "source": [
        "### 2.2 Custom Dataset Class"
      ],
      "id": "f15cbf79"
    },
    {
      "cell_type": "code",
      "metadata": {
        "id": "RK6gHTVopf7M"
      },
      "source": [
        "# cur_dir = \"data/qscale31_unique/\"\n",
        "cur_dir = \"converted_224x224/\""
      ],
      "id": "RK6gHTVopf7M",
      "execution_count": 8,
      "outputs": []
    },
    {
      "cell_type": "code",
      "metadata": {
        "id": "c21554c7"
      },
      "source": [
        "# Define dataset class\n",
        "class MyDataSet(Dataset):\n",
        "\n",
        "    # load the dataset\n",
        "    def __init__(self, data, **kwargs):\n",
        "        self.X = data[\"frames\"]\n",
        "        self.Y = data[\"label\"]\n",
        "\n",
        "    # get number of items/rows in dataset\n",
        "    def __len__(self):\n",
        "        return len(self.Y)\n",
        "    \n",
        "    def __getitem__(self, index):\n",
        "        x, y = self.X[index], self.Y[index]\n",
        "        for c in [\"(\",\")\",\",\",\"'\"]:\n",
        "            x = x.replace(c, \"\")\n",
        "        x = x.split(\" \")\n",
        "        images = []\n",
        "        for img_file in x:\n",
        "            img = Image.open(cur_dir + img_file)\n",
        "            img = torchvision.transforms.ToTensor()(img)\n",
        "            images.extend(img)\n",
        "        x = torch.stack(images)\n",
        "        return x, y\n",
        "    "
      ],
      "id": "c21554c7",
      "execution_count": 9,
      "outputs": []
    },
    {
      "cell_type": "code",
      "metadata": {
        "colab": {
          "base_uri": "https://localhost:8080/"
        },
        "id": "3Tpf6FW9nr7J",
        "outputId": "dbd89bfa-e0da-4e75-8aa2-65c6644e5047"
      },
      "source": [
        "train_set = MyDataSet(train_data)\n",
        "train_set[0][0].shape"
      ],
      "id": "3Tpf6FW9nr7J",
      "execution_count": null,
      "outputs": [
        {
          "output_type": "execute_result",
          "data": {
            "text/plain": [
              "torch.Size([15, 224, 224])"
            ]
          },
          "metadata": {},
          "execution_count": 8
        }
      ]
    },
    {
      "cell_type": "markdown",
      "metadata": {
        "id": "6d6b5efe"
      },
      "source": [
        "### 2.3 Dataloader"
      ],
      "id": "6d6b5efe"
    },
    {
      "cell_type": "code",
      "metadata": {
        "id": "4fb2a207"
      },
      "source": [
        "batch_size = 64\n",
        "\n",
        "# training data\n",
        "train_set = MyDataSet(train_data)\n",
        "train_loader = DataLoader(train_set, shuffle=True, batch_size=batch_size, num_workers=8)\n",
        "\n",
        "# validation data\n",
        "val_set = MyDataSet(val_data)\n",
        "val_loader = DataLoader(val_set, shuffle=False, batch_size=batch_size, num_workers=8)\n",
        "\n",
        "# test data\n",
        "test_set = MyDataSet(test_data)\n",
        "test_loader = DataLoader(test_set, shuffle=False, batch_size=batch_size, num_workers=8)"
      ],
      "id": "4fb2a207",
      "execution_count": 10,
      "outputs": []
    },
    {
      "cell_type": "markdown",
      "metadata": {
        "id": "a589effb"
      },
      "source": [
        "## 3. Model"
      ],
      "id": "a589effb"
    },
    {
      "cell_type": "code",
      "metadata": {
        "id": "7c94574d"
      },
      "source": [
        "# This is the simplest possible residual block, with only one CNN layer.\n",
        "# Looking at the paper, you can extend this block to have more layers, bottleneck, grouped convs (from shufflenet), etc.\n",
        "# Or even look at more recent papers like resnext, regnet, resnest, senet, etc.\n",
        "class ResidualBlock(nn.Module):\n",
        "    def __init__(self, in_channel, out_channel,stride=1):\n",
        "        super().__init__()\n",
        "        self.conv1 = nn.Conv2d(in_channel, out_channel, kernel_size=3, stride=stride, padding=1, bias=False, dilation = 1)\n",
        "        self.bn1 = nn.BatchNorm2d(out_channel)\n",
        "        self.relu1 = nn.ReLU(inplace = True)\n",
        "        self.conv2 = nn.Conv2d(out_channel, out_channel, kernel_size=3, stride=1, padding= 1, bias=False, dilation = 1)\n",
        "        self.bn2 =  nn.BatchNorm2d(out_channel)\n",
        "        if stride == 1:\n",
        "            self.shortcut = nn.Identity()\n",
        "        else:\n",
        "            self.shortcut = nn.Conv2d(in_channel, out_channel, kernel_size=1, stride=stride)\n",
        "        self.relu2 = nn.ReLU(inplace = True)\n",
        "    \n",
        "    def forward(self, x):\n",
        "        out = self.conv1(x)\n",
        "        out = self.bn1(out)\n",
        "        out = self.relu1(out)\n",
        "\n",
        "        out = self.conv2(out)\n",
        "        out = self.bn2(out)\n",
        "\n",
        "        shortcut = self.shortcut(x) \n",
        "        out = self.relu2(out + shortcut)\n",
        "        \n",
        "        return out"
      ],
      "id": "7c94574d",
      "execution_count": 11,
      "outputs": []
    },
    {
      "cell_type": "code",
      "metadata": {
        "id": "8386991f"
      },
      "source": [
        "# This has hard-coded hidden feature sizes.\n",
        "# You can extend this to take in a list of hidden sizes as argument if you want.\n",
        "class ClassificationNetwork(nn.Module):\n",
        "    def __init__(self, in_features, num_classes,feat_dim = 512):\n",
        "        super().__init__()\n",
        "        \n",
        "        self.layers = nn.Sequential(\n",
        "            nn.Conv2d(in_features, 64, kernel_size=7, stride=2, padding=3, bias=False),\n",
        "            nn.BatchNorm2d(64),\n",
        "            nn.ReLU(inplace = True),\n",
        "            nn.MaxPool2d(kernel_size = 3, stride = 2, padding = 1),\n",
        "            ResidualBlock(64,64),\n",
        "            ResidualBlock(64,64),\n",
        "            ResidualBlock(64,64),\n",
        "            ResidualBlock(64,128,stride = 2),\n",
        "            ResidualBlock(128,128),\n",
        "            ResidualBlock(128,128),\n",
        "            ResidualBlock(128,128),\n",
        "            ResidualBlock(128,256,stride = 2),\n",
        "            ResidualBlock(256,256),\n",
        "            ResidualBlock(256,256),\n",
        "            ResidualBlock(256,256),\n",
        "            ResidualBlock(256,256),\n",
        "            ResidualBlock(256,256),\n",
        "            ResidualBlock(256,512,stride = 2),\n",
        "            ResidualBlock(512,512),\n",
        "            ResidualBlock(512,512),\n",
        "            nn.AdaptiveAvgPool2d((1, 1)), # For each channel, collapses (averages) the entire feature map (height & width) to 1x1\n",
        "            nn.Flatten(1), # the above ends up with batch_size x 512 x 1 x 1, flatten to batch_size x 512\n",
        "        )\n",
        "        self.linear_emb = nn.Linear(512, feat_dim)\n",
        "        self.relu = nn.ReLU(inplace=True)\n",
        "        self.linear_output_1 = nn.Linear(512,512)\n",
        "        self.relu_output = nn.ReLU(inplace=True)\n",
        "        self.dropout_output = nn.Dropout(p=0.4)\n",
        "        self.linear_output_2 = nn.Linear(512,num_classes)\n",
        "        # self.fc = nn.Linear(512,num_classes)\n",
        "        \n",
        "        for m in self.modules():\n",
        "          if isinstance(m, nn.Conv2d):\n",
        "            nn.init.kaiming_normal_(m.weight, mode='fan_out', nonlinearity='relu')\n",
        "          elif isinstance(m, (nn.BatchNorm2d)):\n",
        "            nn.init.constant_(m.weight, 1)\n",
        "            nn.init.constant_(m.bias, 0) \n",
        "\n",
        "        for m in self.modules():\n",
        "          if isinstance(m, ResidualBlock):\n",
        "            nn.init.constant_(m.bn2.weight, 0)  # type: ignore[arg-type]  \n",
        "\n",
        "    def forward(self, x, return_embedding=False):\n",
        "        embedding = self.layers(x)\n",
        "        embedding_out = self.linear_emb(embedding)\n",
        "        embedding_out = self.relu(embedding_out)\n",
        "\n",
        "        output = self.linear_output_1(embedding)\n",
        "        output = self.relu_output(output)\n",
        "        output = self.dropout_output(output)\n",
        "        output = self.linear_output_2(output)\n",
        "        # output = self.fc(embedding)\n",
        "\n",
        "        if return_embedding:\n",
        "            return embedding_out,output\n",
        "        else:\n",
        "            return output "
      ],
      "id": "8386991f",
      "execution_count": 12,
      "outputs": []
    },
    {
      "cell_type": "code",
      "metadata": {
        "id": "y9kNdjdnvVgk"
      },
      "source": [
        "class Network(torch.nn.Module):\n",
        "    def __init__(self, in_channels, embedding, num_images, num_classes):\n",
        "        super().__init__()\n",
        "        self.cnn = ClassificationNetwork(in_channels, embedding)\n",
        "        self.mlp = nn.Sequential(nn.Linear(embedding*num_images, num_classes))\n",
        "\n",
        "    def forward(self, x):\n",
        "      x1 = x[:, 0:3, :, :]\n",
        "      x2 = x[:, 3:6, :, :]\n",
        "      x3 = x[:, 6:9, :, :]\n",
        "      x4 = x[:, 9:12, :, :]\n",
        "      x5 = x[:, 12:15, :, :]\n",
        "\n",
        "      out1 = self.cnn(x1)\n",
        "      out2 = self.cnn(x2)\n",
        "      out3 = self.cnn(x3)\n",
        "      out4 = self.cnn(x4)\n",
        "      out5 = self.cnn(x5)\n",
        "\n",
        "      out = torch.cat([out1, out2, out3, out4, out5], axis=1)\n",
        "      logits = self.mlp(out)\n",
        "      return logits"
      ],
      "id": "y9kNdjdnvVgk",
      "execution_count": 13,
      "outputs": []
    },
    {
      "cell_type": "code",
      "metadata": {
        "id": "964a4c9e"
      },
      "source": [
        "numEpochs = 500\n",
        "in_features = 3 # TODO: change RGB channels according to num of frames\n",
        "embedding = 128\n",
        "\n",
        "learningRate = 0.1\n",
        "weightDecay = 1e-4\n",
        "\n",
        "num_images = 5\n",
        "num_classes = 120\n",
        "\n",
        "device = torch.device('cuda' if torch.cuda.is_available() else 'cpu')\n",
        "\n",
        "network = Network(in_features, embedding, num_images, num_classes)\n",
        "#network.load_state_dict(torch.load(\"model_checkpoints/resnet34/lr_0.1-2/model_2.pt\"))\n",
        "network = network.to(device)\n",
        "\n",
        "criterion = nn.CrossEntropyLoss()\n",
        "optimizer = torch.optim.SGD(network.parameters(), lr=learningRate, weight_decay=weightDecay, momentum=0.9)\n",
        "scheduler = torch.optim.lr_scheduler.ReduceLROnPlateau(optimizer, 'min', patience=3, factor=0.7, verbose=True)"
      ],
      "id": "964a4c9e",
      "execution_count": 14,
      "outputs": []
    },
    {
      "cell_type": "code",
      "metadata": {
        "colab": {
          "base_uri": "https://localhost:8080/",
          "height": 1000
        },
        "id": "7b85b7de",
        "outputId": "03582a20-ad28-4783-aaf5-0d09c32f4a9b"
      },
      "source": [
        "# Train!\n",
        "max_val_acc = 0\n",
        "for epoch in range(numEpochs):\n",
        "    # Train\n",
        "    network.train()\n",
        "    avg_loss = 0.0\n",
        "    avg_train_acc = 0.0\n",
        "    for batch_num, (x, y) in enumerate(train_loader):\n",
        "        optimizer.zero_grad()\n",
        "        x, y = x.to(device), y.to(device)\n",
        "        outputs = network(x)\n",
        "        num_train_correct = (torch.argmax(outputs, axis=1) == y).sum().item()\n",
        "        num_labels = len(y)\n",
        "        avg_train_acc += (num_train_correct/num_labels)\n",
        "\n",
        "        loss = criterion(outputs, y.long())\n",
        "        loss.backward()\n",
        "        optimizer.step()\n",
        "        avg_loss += loss.item()\n",
        "\n",
        "        if batch_num % 50 == 49:\n",
        "            print('Epoch: {}\\tBatch: {}\\tAvg-Loss: {:.4f}\\tTraining Accuracy : {:.4f}'.format(epoch, batch_num+1, avg_loss/50, avg_train_acc/50))\n",
        "            avg_loss = 0.0\n",
        "            avg_train_acc = 0.0\n",
        "\n",
        "        torch.cuda.empty_cache()\n",
        "        del x\n",
        "        del y\n",
        "        del loss\n",
        "    \n",
        "    # Validate\n",
        "    with torch.no_grad():\n",
        "        network.eval()\n",
        "        avg_val_loss = 0.0\n",
        "        num_correct = 0\n",
        "        for batch_num, (x, y) in enumerate(val_loader):\n",
        "            x, y = x.to(device), y.to(device)\n",
        "            outputs = network(x)\n",
        "            num_correct += (torch.argmax(outputs, axis=1) == y).sum().item()\n",
        "            loss = criterion(outputs, y.long())\n",
        "            avg_val_loss += loss.item()\n",
        "\n",
        "        avg_val_loss = avg_val_loss / len(val_loader)\n",
        "        val_acc = num_correct / len(val_set)\n",
        "        checkpoint_name = \"/content/gdrive/MyDrive/baseline_15channels/model_\" + str(epoch) + \".pt\"\n",
        "        torch.save(network.state_dict(), checkpoint_name)\n",
        "        if val_acc > max_val_acc:\n",
        "            max_val_acc = val_acc\n",
        "            torch.save(network.state_dict(), \"/content/gdrive/MyDrive/baseline_15channels/best_model.pt\")\n",
        "    \n",
        "    scheduler.step(avg_val_loss)\n",
        "    print('Epoch: {}, Validation Loss: {:.3f}, Validation Accuracy: {:.3f}'.format(epoch, avg_val_loss, val_acc))"
      ],
      "id": "7b85b7de",
      "execution_count": 16,
      "outputs": [
        {
          "output_type": "stream",
          "name": "stdout",
          "text": [
            "Epoch: 0\tBatch: 50\tAvg-Loss: 0.8909\tTraining Accuracy : 0.6937\n",
            "Epoch: 0\tBatch: 100\tAvg-Loss: 0.8304\tTraining Accuracy : 0.7097\n",
            "Epoch: 0\tBatch: 150\tAvg-Loss: 0.8299\tTraining Accuracy : 0.7150\n",
            "Epoch: 0\tBatch: 200\tAvg-Loss: 0.8334\tTraining Accuracy : 0.7034\n",
            "Epoch: 0\tBatch: 250\tAvg-Loss: 0.7890\tTraining Accuracy : 0.7116\n",
            "Epoch: 0\tBatch: 300\tAvg-Loss: 0.7764\tTraining Accuracy : 0.7228\n",
            "Epoch: 0\tBatch: 350\tAvg-Loss: 0.7640\tTraining Accuracy : 0.7359\n",
            "Epoch: 0\tBatch: 400\tAvg-Loss: 0.7369\tTraining Accuracy : 0.7397\n",
            "Epoch: 0\tBatch: 450\tAvg-Loss: 0.7386\tTraining Accuracy : 0.7316\n",
            "Epoch: 0\tBatch: 500\tAvg-Loss: 0.7692\tTraining Accuracy : 0.7366\n",
            "Epoch: 0\tBatch: 550\tAvg-Loss: 0.7501\tTraining Accuracy : 0.7375\n",
            "Epoch: 0\tBatch: 600\tAvg-Loss: 0.7804\tTraining Accuracy : 0.7244\n",
            "Epoch: 0\tBatch: 650\tAvg-Loss: 0.7482\tTraining Accuracy : 0.7425\n",
            "Epoch: 0\tBatch: 700\tAvg-Loss: 0.7847\tTraining Accuracy : 0.7275\n",
            "Epoch: 0\tBatch: 750\tAvg-Loss: 0.7696\tTraining Accuracy : 0.7356\n",
            "Epoch: 0\tBatch: 800\tAvg-Loss: 0.7060\tTraining Accuracy : 0.7578\n",
            "Epoch: 0\tBatch: 850\tAvg-Loss: 0.7314\tTraining Accuracy : 0.7397\n",
            "Epoch: 0\tBatch: 900\tAvg-Loss: 0.7150\tTraining Accuracy : 0.7419\n",
            "Epoch: 0\tBatch: 950\tAvg-Loss: 0.7295\tTraining Accuracy : 0.7438\n",
            "Epoch: 0\tBatch: 1000\tAvg-Loss: 0.6915\tTraining Accuracy : 0.7544\n",
            "Epoch: 0\tBatch: 1050\tAvg-Loss: 0.7057\tTraining Accuracy : 0.7384\n",
            "Epoch: 0\tBatch: 1100\tAvg-Loss: 0.7369\tTraining Accuracy : 0.7472\n",
            "Epoch: 0\tBatch: 1150\tAvg-Loss: 0.7035\tTraining Accuracy : 0.7512\n",
            "Epoch: 0\tBatch: 1200\tAvg-Loss: 0.6821\tTraining Accuracy : 0.7591\n",
            "Epoch: 0\tBatch: 1250\tAvg-Loss: 0.6799\tTraining Accuracy : 0.7606\n",
            "Epoch: 0\tBatch: 1300\tAvg-Loss: 0.6507\tTraining Accuracy : 0.7653\n",
            "Epoch: 0, Validation Loss: 13.071, Validation Accuracy: 0.030\n",
            "Epoch: 1\tBatch: 50\tAvg-Loss: 0.6456\tTraining Accuracy : 0.7638\n",
            "Epoch: 1\tBatch: 100\tAvg-Loss: 0.6796\tTraining Accuracy : 0.7775\n",
            "Epoch: 1\tBatch: 150\tAvg-Loss: 0.6447\tTraining Accuracy : 0.7650\n",
            "Epoch: 1\tBatch: 200\tAvg-Loss: 0.6587\tTraining Accuracy : 0.7622\n",
            "Epoch: 1\tBatch: 250\tAvg-Loss: 0.6861\tTraining Accuracy : 0.7547\n",
            "Epoch: 1\tBatch: 300\tAvg-Loss: 0.7174\tTraining Accuracy : 0.7512\n",
            "Epoch: 1\tBatch: 350\tAvg-Loss: 0.6736\tTraining Accuracy : 0.7791\n",
            "Epoch: 1\tBatch: 400\tAvg-Loss: 0.6428\tTraining Accuracy : 0.7750\n",
            "Epoch: 1\tBatch: 450\tAvg-Loss: 0.6380\tTraining Accuracy : 0.7756\n",
            "Epoch: 1\tBatch: 500\tAvg-Loss: 0.6680\tTraining Accuracy : 0.7681\n"
          ]
        },
        {
          "output_type": "error",
          "ename": "KeyboardInterrupt",
          "evalue": "ignored",
          "traceback": [
            "\u001b[0;31m---------------------------------------------------------------------------\u001b[0m",
            "\u001b[0;31mKeyboardInterrupt\u001b[0m                         Traceback (most recent call last)",
            "\u001b[0;32m<ipython-input-16-e74b96df63dd>\u001b[0m in \u001b[0;36m<module>\u001b[0;34m()\u001b[0m\n\u001b[1;32m     15\u001b[0m \u001b[0;34m\u001b[0m\u001b[0m\n\u001b[1;32m     16\u001b[0m         \u001b[0mloss\u001b[0m \u001b[0;34m=\u001b[0m \u001b[0mcriterion\u001b[0m\u001b[0;34m(\u001b[0m\u001b[0moutputs\u001b[0m\u001b[0;34m,\u001b[0m \u001b[0my\u001b[0m\u001b[0;34m.\u001b[0m\u001b[0mlong\u001b[0m\u001b[0;34m(\u001b[0m\u001b[0;34m)\u001b[0m\u001b[0;34m)\u001b[0m\u001b[0;34m\u001b[0m\u001b[0;34m\u001b[0m\u001b[0m\n\u001b[0;32m---> 17\u001b[0;31m         \u001b[0mloss\u001b[0m\u001b[0;34m.\u001b[0m\u001b[0mbackward\u001b[0m\u001b[0;34m(\u001b[0m\u001b[0;34m)\u001b[0m\u001b[0;34m\u001b[0m\u001b[0;34m\u001b[0m\u001b[0m\n\u001b[0m\u001b[1;32m     18\u001b[0m         \u001b[0moptimizer\u001b[0m\u001b[0;34m.\u001b[0m\u001b[0mstep\u001b[0m\u001b[0;34m(\u001b[0m\u001b[0;34m)\u001b[0m\u001b[0;34m\u001b[0m\u001b[0;34m\u001b[0m\u001b[0m\n\u001b[1;32m     19\u001b[0m         \u001b[0mavg_loss\u001b[0m \u001b[0;34m+=\u001b[0m \u001b[0mloss\u001b[0m\u001b[0;34m.\u001b[0m\u001b[0mitem\u001b[0m\u001b[0;34m(\u001b[0m\u001b[0;34m)\u001b[0m\u001b[0;34m\u001b[0m\u001b[0;34m\u001b[0m\u001b[0m\n",
            "\u001b[0;32m/usr/local/lib/python3.7/dist-packages/torch/_tensor.py\u001b[0m in \u001b[0;36mbackward\u001b[0;34m(self, gradient, retain_graph, create_graph, inputs)\u001b[0m\n\u001b[1;32m    305\u001b[0m                 \u001b[0mcreate_graph\u001b[0m\u001b[0;34m=\u001b[0m\u001b[0mcreate_graph\u001b[0m\u001b[0;34m,\u001b[0m\u001b[0;34m\u001b[0m\u001b[0;34m\u001b[0m\u001b[0m\n\u001b[1;32m    306\u001b[0m                 inputs=inputs)\n\u001b[0;32m--> 307\u001b[0;31m         \u001b[0mtorch\u001b[0m\u001b[0;34m.\u001b[0m\u001b[0mautograd\u001b[0m\u001b[0;34m.\u001b[0m\u001b[0mbackward\u001b[0m\u001b[0;34m(\u001b[0m\u001b[0mself\u001b[0m\u001b[0;34m,\u001b[0m \u001b[0mgradient\u001b[0m\u001b[0;34m,\u001b[0m \u001b[0mretain_graph\u001b[0m\u001b[0;34m,\u001b[0m \u001b[0mcreate_graph\u001b[0m\u001b[0;34m,\u001b[0m \u001b[0minputs\u001b[0m\u001b[0;34m=\u001b[0m\u001b[0minputs\u001b[0m\u001b[0;34m)\u001b[0m\u001b[0;34m\u001b[0m\u001b[0;34m\u001b[0m\u001b[0m\n\u001b[0m\u001b[1;32m    308\u001b[0m \u001b[0;34m\u001b[0m\u001b[0m\n\u001b[1;32m    309\u001b[0m     \u001b[0;32mdef\u001b[0m \u001b[0mregister_hook\u001b[0m\u001b[0;34m(\u001b[0m\u001b[0mself\u001b[0m\u001b[0;34m,\u001b[0m \u001b[0mhook\u001b[0m\u001b[0;34m)\u001b[0m\u001b[0;34m:\u001b[0m\u001b[0;34m\u001b[0m\u001b[0;34m\u001b[0m\u001b[0m\n",
            "\u001b[0;32m/usr/local/lib/python3.7/dist-packages/torch/autograd/__init__.py\u001b[0m in \u001b[0;36mbackward\u001b[0;34m(tensors, grad_tensors, retain_graph, create_graph, grad_variables, inputs)\u001b[0m\n\u001b[1;32m    154\u001b[0m     Variable._execution_engine.run_backward(\n\u001b[1;32m    155\u001b[0m         \u001b[0mtensors\u001b[0m\u001b[0;34m,\u001b[0m \u001b[0mgrad_tensors_\u001b[0m\u001b[0;34m,\u001b[0m \u001b[0mretain_graph\u001b[0m\u001b[0;34m,\u001b[0m \u001b[0mcreate_graph\u001b[0m\u001b[0;34m,\u001b[0m \u001b[0minputs\u001b[0m\u001b[0;34m,\u001b[0m\u001b[0;34m\u001b[0m\u001b[0;34m\u001b[0m\u001b[0m\n\u001b[0;32m--> 156\u001b[0;31m         allow_unreachable=True, accumulate_grad=True)  # allow_unreachable flag\n\u001b[0m\u001b[1;32m    157\u001b[0m \u001b[0;34m\u001b[0m\u001b[0m\n\u001b[1;32m    158\u001b[0m \u001b[0;34m\u001b[0m\u001b[0m\n",
            "\u001b[0;31mKeyboardInterrupt\u001b[0m: "
          ]
        }
      ]
    },
    {
      "cell_type": "code",
      "metadata": {
        "id": "6vIdH8nTXpno",
        "colab": {
          "base_uri": "https://localhost:8080/"
        },
        "outputId": "b8fc900c-2e97-44f8-b92d-15773210254e"
      },
      "source": [
        "# Test\n",
        "\n",
        "network.load_state_dict(torch.load(\"/content/gdrive/MyDrive/baseline_15channels/model_6.pt\"))\n",
        "\n",
        "with torch.no_grad():\n",
        "  network.eval()\n",
        "  num_correct = 0\n",
        "  for batch_num, (x, y) in enumerate(test_loader):\n",
        "    x, y = x.to(device), y.to(device)\n",
        "    outputs = network(x)\n",
        "    num_correct += (torch.argmax(outputs, axis=1) == y).sum().item()\n",
        "\n",
        "test_acc = num_correct / len(test_set)\n",
        "print(test_acc)\n"
      ],
      "id": "6vIdH8nTXpno",
      "execution_count": 19,
      "outputs": [
        {
          "output_type": "stream",
          "name": "stdout",
          "text": [
            "0.014431381289351982\n"
          ]
        }
      ]
    }
  ]
}